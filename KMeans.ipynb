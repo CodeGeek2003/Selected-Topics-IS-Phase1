{
  "cells": [
    {
      "cell_type": "code",
      "metadata": {
        "ExecuteTime": {
          "end_time": "2025-03-15T21:13:41.671546Z",
          "start_time": "2025-03-15T21:13:41.660351Z"
        },
        "id": "z25pUOtKjCAe"
      },
      "source": [
        "import pandas as pd\n",
        "import matplotlib.pyplot as plt\n",
        "from sklearn.cluster import KMeans\n",
        "from sklearn.preprocessing import StandardScaler\n",
        "from sklearn.preprocessing import LabelEncoder, OneHotEncoder, StandardScaler\n",
        "import seaborn as sns\n",
        "import numpy as np\n",
        "from sklearn.metrics import silhouette_score\n",
        "from sklearn.metrics import confusion_matrix, classification_report\n"
      ],
      "outputs": [],
      "execution_count": null
    },
    {
      "cell_type": "code",
      "metadata": {
        "ExecuteTime": {
          "end_time": "2025-03-15T21:13:41.901668Z",
          "start_time": "2025-03-15T21:13:41.717921Z"
        },
        "id": "YlUe-4iOjCAg",
        "outputId": "0d39ed1a-746a-488c-8619-5da45873bf49"
      },
      "source": [
        "df=pd.read_csv('customer_data.csv')\n",
        "df.head(5)"
      ],
      "outputs": [
        {
          "data": {
            "text/plain": [
              "   id  age  gender  income   education region loyalty_status  \\\n",
              "0   1   27    Male   40682    Bachelor   East           Gold   \n",
              "1   2   29    Male   15317     Masters   West        Regular   \n",
              "2   3   37    Male   38849    Bachelor   West         Silver   \n",
              "3   4   30    Male   11568  HighSchool  South        Regular   \n",
              "4   5   31  Female   46952     College  North        Regular   \n",
              "\n",
              "  purchase_frequency  purchase_amount product_category  promotion_usage  \\\n",
              "0           frequent            18249            Books                0   \n",
              "1               rare             4557         Clothing                1   \n",
              "2               rare            11822         Clothing                0   \n",
              "3           frequent             4098             Food                0   \n",
              "4         occasional            19685         Clothing                1   \n",
              "\n",
              "   satisfaction_score  \n",
              "0                   6  \n",
              "1                   6  \n",
              "2                   6  \n",
              "3                   7  \n",
              "4                   5  "
            ],
            "text/html": [
              "<div>\n",
              "<style scoped>\n",
              "    .dataframe tbody tr th:only-of-type {\n",
              "        vertical-align: middle;\n",
              "    }\n",
              "\n",
              "    .dataframe tbody tr th {\n",
              "        vertical-align: top;\n",
              "    }\n",
              "\n",
              "    .dataframe thead th {\n",
              "        text-align: right;\n",
              "    }\n",
              "</style>\n",
              "<table border=\"1\" class=\"dataframe\">\n",
              "  <thead>\n",
              "    <tr style=\"text-align: right;\">\n",
              "      <th></th>\n",
              "      <th>id</th>\n",
              "      <th>age</th>\n",
              "      <th>gender</th>\n",
              "      <th>income</th>\n",
              "      <th>education</th>\n",
              "      <th>region</th>\n",
              "      <th>loyalty_status</th>\n",
              "      <th>purchase_frequency</th>\n",
              "      <th>purchase_amount</th>\n",
              "      <th>product_category</th>\n",
              "      <th>promotion_usage</th>\n",
              "      <th>satisfaction_score</th>\n",
              "    </tr>\n",
              "  </thead>\n",
              "  <tbody>\n",
              "    <tr>\n",
              "      <th>0</th>\n",
              "      <td>1</td>\n",
              "      <td>27</td>\n",
              "      <td>Male</td>\n",
              "      <td>40682</td>\n",
              "      <td>Bachelor</td>\n",
              "      <td>East</td>\n",
              "      <td>Gold</td>\n",
              "      <td>frequent</td>\n",
              "      <td>18249</td>\n",
              "      <td>Books</td>\n",
              "      <td>0</td>\n",
              "      <td>6</td>\n",
              "    </tr>\n",
              "    <tr>\n",
              "      <th>1</th>\n",
              "      <td>2</td>\n",
              "      <td>29</td>\n",
              "      <td>Male</td>\n",
              "      <td>15317</td>\n",
              "      <td>Masters</td>\n",
              "      <td>West</td>\n",
              "      <td>Regular</td>\n",
              "      <td>rare</td>\n",
              "      <td>4557</td>\n",
              "      <td>Clothing</td>\n",
              "      <td>1</td>\n",
              "      <td>6</td>\n",
              "    </tr>\n",
              "    <tr>\n",
              "      <th>2</th>\n",
              "      <td>3</td>\n",
              "      <td>37</td>\n",
              "      <td>Male</td>\n",
              "      <td>38849</td>\n",
              "      <td>Bachelor</td>\n",
              "      <td>West</td>\n",
              "      <td>Silver</td>\n",
              "      <td>rare</td>\n",
              "      <td>11822</td>\n",
              "      <td>Clothing</td>\n",
              "      <td>0</td>\n",
              "      <td>6</td>\n",
              "    </tr>\n",
              "    <tr>\n",
              "      <th>3</th>\n",
              "      <td>4</td>\n",
              "      <td>30</td>\n",
              "      <td>Male</td>\n",
              "      <td>11568</td>\n",
              "      <td>HighSchool</td>\n",
              "      <td>South</td>\n",
              "      <td>Regular</td>\n",
              "      <td>frequent</td>\n",
              "      <td>4098</td>\n",
              "      <td>Food</td>\n",
              "      <td>0</td>\n",
              "      <td>7</td>\n",
              "    </tr>\n",
              "    <tr>\n",
              "      <th>4</th>\n",
              "      <td>5</td>\n",
              "      <td>31</td>\n",
              "      <td>Female</td>\n",
              "      <td>46952</td>\n",
              "      <td>College</td>\n",
              "      <td>North</td>\n",
              "      <td>Regular</td>\n",
              "      <td>occasional</td>\n",
              "      <td>19685</td>\n",
              "      <td>Clothing</td>\n",
              "      <td>1</td>\n",
              "      <td>5</td>\n",
              "    </tr>\n",
              "  </tbody>\n",
              "</table>\n",
              "</div>"
            ]
          },
          "execution_count": 19,
          "metadata": {},
          "output_type": "execute_result"
        }
      ],
      "execution_count": null
    },
    {
      "metadata": {
        "ExecuteTime": {
          "end_time": "2025-03-15T21:13:42.035535Z",
          "start_time": "2025-03-15T21:13:42.007692Z"
        },
        "id": "OnvERuf6jCAg"
      },
      "cell_type": "code",
      "source": [
        "df=df.drop(columns='loyalty_status')\n",
        "X = df.drop('id', axis=1)\n"
      ],
      "outputs": [],
      "execution_count": null
    },
    {
      "metadata": {
        "ExecuteTime": {
          "end_time": "2025-03-15T21:13:42.135534Z",
          "start_time": "2025-03-15T21:13:42.116523Z"
        },
        "id": "ky7jFWZLjCAg",
        "outputId": "450b9c7e-53d2-4dea-cd1e-ecc829961da5"
      },
      "cell_type": "code",
      "source": [
        "df.head(5)"
      ],
      "outputs": [
        {
          "data": {
            "text/plain": [
              "   id  age  gender  income   education region purchase_frequency  \\\n",
              "0   1   27    Male   40682    Bachelor   East           frequent   \n",
              "1   2   29    Male   15317     Masters   West               rare   \n",
              "2   3   37    Male   38849    Bachelor   West               rare   \n",
              "3   4   30    Male   11568  HighSchool  South           frequent   \n",
              "4   5   31  Female   46952     College  North         occasional   \n",
              "\n",
              "   purchase_amount product_category  promotion_usage  satisfaction_score  \n",
              "0            18249            Books                0                   6  \n",
              "1             4557         Clothing                1                   6  \n",
              "2            11822         Clothing                0                   6  \n",
              "3             4098             Food                0                   7  \n",
              "4            19685         Clothing                1                   5  "
            ],
            "text/html": [
              "<div>\n",
              "<style scoped>\n",
              "    .dataframe tbody tr th:only-of-type {\n",
              "        vertical-align: middle;\n",
              "    }\n",
              "\n",
              "    .dataframe tbody tr th {\n",
              "        vertical-align: top;\n",
              "    }\n",
              "\n",
              "    .dataframe thead th {\n",
              "        text-align: right;\n",
              "    }\n",
              "</style>\n",
              "<table border=\"1\" class=\"dataframe\">\n",
              "  <thead>\n",
              "    <tr style=\"text-align: right;\">\n",
              "      <th></th>\n",
              "      <th>id</th>\n",
              "      <th>age</th>\n",
              "      <th>gender</th>\n",
              "      <th>income</th>\n",
              "      <th>education</th>\n",
              "      <th>region</th>\n",
              "      <th>purchase_frequency</th>\n",
              "      <th>purchase_amount</th>\n",
              "      <th>product_category</th>\n",
              "      <th>promotion_usage</th>\n",
              "      <th>satisfaction_score</th>\n",
              "    </tr>\n",
              "  </thead>\n",
              "  <tbody>\n",
              "    <tr>\n",
              "      <th>0</th>\n",
              "      <td>1</td>\n",
              "      <td>27</td>\n",
              "      <td>Male</td>\n",
              "      <td>40682</td>\n",
              "      <td>Bachelor</td>\n",
              "      <td>East</td>\n",
              "      <td>frequent</td>\n",
              "      <td>18249</td>\n",
              "      <td>Books</td>\n",
              "      <td>0</td>\n",
              "      <td>6</td>\n",
              "    </tr>\n",
              "    <tr>\n",
              "      <th>1</th>\n",
              "      <td>2</td>\n",
              "      <td>29</td>\n",
              "      <td>Male</td>\n",
              "      <td>15317</td>\n",
              "      <td>Masters</td>\n",
              "      <td>West</td>\n",
              "      <td>rare</td>\n",
              "      <td>4557</td>\n",
              "      <td>Clothing</td>\n",
              "      <td>1</td>\n",
              "      <td>6</td>\n",
              "    </tr>\n",
              "    <tr>\n",
              "      <th>2</th>\n",
              "      <td>3</td>\n",
              "      <td>37</td>\n",
              "      <td>Male</td>\n",
              "      <td>38849</td>\n",
              "      <td>Bachelor</td>\n",
              "      <td>West</td>\n",
              "      <td>rare</td>\n",
              "      <td>11822</td>\n",
              "      <td>Clothing</td>\n",
              "      <td>0</td>\n",
              "      <td>6</td>\n",
              "    </tr>\n",
              "    <tr>\n",
              "      <th>3</th>\n",
              "      <td>4</td>\n",
              "      <td>30</td>\n",
              "      <td>Male</td>\n",
              "      <td>11568</td>\n",
              "      <td>HighSchool</td>\n",
              "      <td>South</td>\n",
              "      <td>frequent</td>\n",
              "      <td>4098</td>\n",
              "      <td>Food</td>\n",
              "      <td>0</td>\n",
              "      <td>7</td>\n",
              "    </tr>\n",
              "    <tr>\n",
              "      <th>4</th>\n",
              "      <td>5</td>\n",
              "      <td>31</td>\n",
              "      <td>Female</td>\n",
              "      <td>46952</td>\n",
              "      <td>College</td>\n",
              "      <td>North</td>\n",
              "      <td>occasional</td>\n",
              "      <td>19685</td>\n",
              "      <td>Clothing</td>\n",
              "      <td>1</td>\n",
              "      <td>5</td>\n",
              "    </tr>\n",
              "  </tbody>\n",
              "</table>\n",
              "</div>"
            ]
          },
          "execution_count": 21,
          "metadata": {},
          "output_type": "execute_result"
        }
      ],
      "execution_count": null
    },
    {
      "metadata": {
        "ExecuteTime": {
          "end_time": "2025-03-15T21:13:42.491381Z",
          "start_time": "2025-03-15T21:13:42.310281Z"
        },
        "id": "el4_cGJRjCAg",
        "outputId": "f263eaa6-add6-442a-a240-e23df71a3b9b"
      },
      "cell_type": "code",
      "source": [
        "#Label Encoding four categorical variables\n",
        "\n",
        "from sklearn.preprocessing import LabelEncoder\n",
        "\n",
        "le = LabelEncoder()\n",
        "\n",
        "X['education'] = le.fit_transform(X['education'])\n",
        "X['region'] = le.fit_transform(X['region'])\n",
        "X['gender'] = le.fit_transform(X['gender'])\n",
        "X['product_category'] = le.fit_transform(X['product_category'])\n",
        "X['purchase_frequency'] = le.fit_transform(X['purchase_frequency'])\n",
        "X.head()"
      ],
      "outputs": [
        {
          "data": {
            "text/plain": [
              "   age  gender  income  education  region  purchase_frequency  \\\n",
              "0   27       1   40682          0       0                   0   \n",
              "1   29       1   15317          3       3                   2   \n",
              "2   37       1   38849          0       3                   2   \n",
              "3   30       1   11568          2       2                   0   \n",
              "4   31       0   46952          1       1                   1   \n",
              "\n",
              "   purchase_amount  product_category  promotion_usage  satisfaction_score  \n",
              "0            18249                 1                0                   6  \n",
              "1             4557                 2                1                   6  \n",
              "2            11822                 2                0                   6  \n",
              "3             4098                 4                0                   7  \n",
              "4            19685                 2                1                   5  "
            ],
            "text/html": [
              "<div>\n",
              "<style scoped>\n",
              "    .dataframe tbody tr th:only-of-type {\n",
              "        vertical-align: middle;\n",
              "    }\n",
              "\n",
              "    .dataframe tbody tr th {\n",
              "        vertical-align: top;\n",
              "    }\n",
              "\n",
              "    .dataframe thead th {\n",
              "        text-align: right;\n",
              "    }\n",
              "</style>\n",
              "<table border=\"1\" class=\"dataframe\">\n",
              "  <thead>\n",
              "    <tr style=\"text-align: right;\">\n",
              "      <th></th>\n",
              "      <th>age</th>\n",
              "      <th>gender</th>\n",
              "      <th>income</th>\n",
              "      <th>education</th>\n",
              "      <th>region</th>\n",
              "      <th>purchase_frequency</th>\n",
              "      <th>purchase_amount</th>\n",
              "      <th>product_category</th>\n",
              "      <th>promotion_usage</th>\n",
              "      <th>satisfaction_score</th>\n",
              "    </tr>\n",
              "  </thead>\n",
              "  <tbody>\n",
              "    <tr>\n",
              "      <th>0</th>\n",
              "      <td>27</td>\n",
              "      <td>1</td>\n",
              "      <td>40682</td>\n",
              "      <td>0</td>\n",
              "      <td>0</td>\n",
              "      <td>0</td>\n",
              "      <td>18249</td>\n",
              "      <td>1</td>\n",
              "      <td>0</td>\n",
              "      <td>6</td>\n",
              "    </tr>\n",
              "    <tr>\n",
              "      <th>1</th>\n",
              "      <td>29</td>\n",
              "      <td>1</td>\n",
              "      <td>15317</td>\n",
              "      <td>3</td>\n",
              "      <td>3</td>\n",
              "      <td>2</td>\n",
              "      <td>4557</td>\n",
              "      <td>2</td>\n",
              "      <td>1</td>\n",
              "      <td>6</td>\n",
              "    </tr>\n",
              "    <tr>\n",
              "      <th>2</th>\n",
              "      <td>37</td>\n",
              "      <td>1</td>\n",
              "      <td>38849</td>\n",
              "      <td>0</td>\n",
              "      <td>3</td>\n",
              "      <td>2</td>\n",
              "      <td>11822</td>\n",
              "      <td>2</td>\n",
              "      <td>0</td>\n",
              "      <td>6</td>\n",
              "    </tr>\n",
              "    <tr>\n",
              "      <th>3</th>\n",
              "      <td>30</td>\n",
              "      <td>1</td>\n",
              "      <td>11568</td>\n",
              "      <td>2</td>\n",
              "      <td>2</td>\n",
              "      <td>0</td>\n",
              "      <td>4098</td>\n",
              "      <td>4</td>\n",
              "      <td>0</td>\n",
              "      <td>7</td>\n",
              "    </tr>\n",
              "    <tr>\n",
              "      <th>4</th>\n",
              "      <td>31</td>\n",
              "      <td>0</td>\n",
              "      <td>46952</td>\n",
              "      <td>1</td>\n",
              "      <td>1</td>\n",
              "      <td>1</td>\n",
              "      <td>19685</td>\n",
              "      <td>2</td>\n",
              "      <td>1</td>\n",
              "      <td>5</td>\n",
              "    </tr>\n",
              "  </tbody>\n",
              "</table>\n",
              "</div>"
            ]
          },
          "execution_count": 22,
          "metadata": {},
          "output_type": "execute_result"
        }
      ],
      "execution_count": null
    },
    {
      "metadata": {
        "ExecuteTime": {
          "end_time": "2025-03-15T21:13:43.013193Z",
          "start_time": "2025-03-15T21:13:42.618603Z"
        },
        "id": "abdi3cHjjCAh",
        "outputId": "174c5da3-95d7-4101-bd38-e1668dfc1345"
      },
      "cell_type": "code",
      "source": [
        "numeric_data = df.select_dtypes(include=[np.number])\n",
        "\n",
        "# Compute the correlation matrix\n",
        "correlation_matrix = numeric_data.corr()\n",
        "\n",
        "# Plot the correlation matrix with values\n",
        "plt.figure(figsize=(12, 8))\n",
        "sns.heatmap(correlation_matrix, annot=True, cmap='coolwarm', fmt='.2f', linewidths=0.5)\n",
        "plt.title('Correlation Matrix', fontsize=16)\n",
        "plt.show()"
      ],
      "outputs": [
        {
          "data": {
            "text/plain": [
              "<Figure size 1200x800 with 2 Axes>"
            ],
            "image/png": "[encoded data removed]"
          },
          "metadata": {},
          "output_type": "display_data"
        }
      ],
      "execution_count": null
    },
    {
      "metadata": {
        "ExecuteTime": {
          "end_time": "2025-03-15T21:13:43.284233Z",
          "start_time": "2025-03-15T21:13:43.067681Z"
        },
        "id": "Cm6_oWvwjCAh",
        "outputId": "6f74dff5-f511-4cd2-cbbb-677ab502dc72"
      },
      "cell_type": "code",
      "source": [
        "scaler = StandardScaler()\n",
        "X_scaled = scaler.fit_transform(X)\n",
        "\n",
        "kmeans = KMeans(n_clusters=3, random_state=42)\n",
        "kmeans.fit(X_scaled)\n",
        "\n",
        "df['Cluster'] = kmeans.labels_\n",
        "print(df[['id', 'Cluster']])\n"
      ],
      "outputs": [
        {
          "name": "stdout",
          "output_type": "stream",
          "text": [
            "           id  Cluster\n",
            "0           1        2\n",
            "1           2        0\n",
            "2           3        2\n",
            "3           4        0\n",
            "4           5        2\n",
            "...       ...      ...\n",
            "99995   99996        1\n",
            "99996   99997        0\n",
            "99997   99998        0\n",
            "99998   99999        2\n",
            "99999  100000        1\n",
            "\n",
            "[100000 rows x 2 columns]\n"
          ]
        }
      ],
      "execution_count": null
    },
    {
      "metadata": {
        "ExecuteTime": {
          "end_time": "2025-03-15T21:13:43.304175Z",
          "start_time": "2025-03-15T21:13:43.300185Z"
        },
        "id": "UbPNW1kTjCAh"
      },
      "cell_type": "code",
      "source": [],
      "outputs": [],
      "execution_count": null
    },
    {
      "metadata": {
        "ExecuteTime": {
          "end_time": "2025-03-15T21:13:43.347141Z",
          "start_time": "2025-03-15T21:13:43.343272Z"
        },
        "id": "NA8CRge-jCAh"
      },
      "cell_type": "code",
      "source": [],
      "outputs": [],
      "execution_count": null
    },
    {
      "cell_type": "code",
      "source": [
        "df = df.info()\n",
        "df.isnull().sum()\n",
        "\n",
        "print(df)"
      ],
      "metadata": {
        "id": "VgJMuOkhjQ8c",
        "outputId": "de822265-f895-4481-8e15-81a0738a14cd",
        "colab": {
          "base_uri": "https://localhost:8080/",
          "height": 193
        }
      },
      "execution_count": 13,
      "outputs": [
        {
          "output_type": "error",
          "ename": "NameError",
          "evalue": "name 'df' is not defined",
          "traceback": [
            "\u001b[0;31m---------------------------------------------------------------------------\u001b[0m",
            "\u001b[0;31mNameError\u001b[0m                                 Traceback (most recent call last)",
            "\u001b[0;32m<ipython-input-13-869044351eff>\u001b[0m in \u001b[0;36m<cell line: 0>\u001b[0;34m()\u001b[0m\n\u001b[0;32m----> 1\u001b[0;31m \u001b[0mdf\u001b[0m \u001b[0;34m=\u001b[0m \u001b[0mdf\u001b[0m\u001b[0;34m.\u001b[0m\u001b[0minfo\u001b[0m\u001b[0;34m(\u001b[0m\u001b[0;34m)\u001b[0m\u001b[0;34m\u001b[0m\u001b[0;34m\u001b[0m\u001b[0m\n\u001b[0m\u001b[1;32m      2\u001b[0m \u001b[0mdf\u001b[0m\u001b[0;34m.\u001b[0m\u001b[0misnull\u001b[0m\u001b[0;34m(\u001b[0m\u001b[0;34m)\u001b[0m\u001b[0;34m.\u001b[0m\u001b[0msum\u001b[0m\u001b[0;34m(\u001b[0m\u001b[0;34m)\u001b[0m\u001b[0;34m\u001b[0m\u001b[0;34m\u001b[0m\u001b[0m\n\u001b[1;32m      3\u001b[0m \u001b[0;34m\u001b[0m\u001b[0m\n\u001b[1;32m      4\u001b[0m \u001b[0mprint\u001b[0m\u001b[0;34m(\u001b[0m\u001b[0mdf\u001b[0m\u001b[0;34m)\u001b[0m\u001b[0;34m\u001b[0m\u001b[0;34m\u001b[0m\u001b[0m\n",
            "\u001b[0;31mNameError\u001b[0m: name 'df' is not defined"
          ]
        }
      ]
    }
  ],
  "metadata": {
    "kernelspec": {
      "display_name": "ML",
      "language": "python",
      "name": "python3"
    },
    "language_info": {
      "codemirror_mode": {
        "name": "ipython",
        "version": 3
      },
      "file_extension": ".py",
      "mimetype": "text/x-python",
      "name": "python",
      "nbconvert_exporter": "python",
      "pygments_lexer": "ipython3",
      "version": "3.12.9"
    },
    "colab": {
      "provenance": []
    }
  },
  "nbformat": 4,
  "nbformat_minor": 0
}